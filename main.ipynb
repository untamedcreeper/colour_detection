{
 "cells": [
  {
   "cell_type": "markdown",
   "metadata": {},
   "source": [
    "# Color Detection Project\n",
    "This project identifies and displays the dominant colors in an image using OpenCV for image processing and scikit-learn's K-means clustering."
   ]
  },
  {
   "cell_type": "markdown",
   "metadata": {},
   "source": [
    "## Step 1: Import Libraries\n",
    "We will start by importing the required libraries for this project."
   ]
  },
  {
   "cell_type": "code",
   "execution_count": null,
   "metadata": {},
   "outputs": [],
   "source": [
    "import cv2\n",
    "import numpy as np\n",
    "from sklearn.cluster import KMeans\n",
    "import matplotlib.pyplot as plt"
   ]
  },
  {
   "cell_type": "markdown",
   "metadata": {},
   "source": [
    "## Step 2: Load and Process the Image\n",
    "Read the image using OpenCV and convert it from BGR to RGB format for visualization."
   ]
  },
  {
   "cell_type": "code",
   "execution_count": null,
   "metadata": {},
   "outputs": [],
   "source": [
    "# Load the image\n",
    "image = cv2.imread('image.jpg')  # Replace 'image.jpg' with your image path\n",
    "image = cv2.cvtColor(image, cv2.COLOR_BGR2RGB)\n",
    "\n",
    "# Resize the image for faster processing\n",
    "image = cv2.resize(image, (600, 400))\n",
    "\n",
    "# Display the image\n",
    "plt.imshow(image)\n",
    "plt.axis('off')\n",
    "plt.show()"
   ]
  },
  {
   "cell_type": "markdown",
   "metadata": {},
   "source": [
    "## Step 3: Reshape and Apply K-means Clustering\n",
    "Reshape the image to a 2D array of pixels and apply K-means clustering to find dominant colors."
   ]
  },
  {
   "cell_type": "code",
   "execution_count": null,
   "metadata": {},
   "outputs": [],
   "source": [
    "# Reshape the image to a 2D array of pixels\n",
    "pixels = image.reshape(-1, 3)\n",
    "\n",
    "# Apply K-means clustering\n",
    "num_colors = 5  # Number of dominant colors\n",
    "kmeans = KMeans(n_clusters=num_colors, random_state=42)\n",
    "kmeans.fit(pixels)\n",
    "\n",
    "# Get the cluster centers (dominant colors)\n",
    "dominant_colors = np.array(kmeans.cluster_centers_, dtype='uint8')"
   ]
  },
  {
   "cell_type": "markdown",
   "metadata": {},
   "source": [
    "## Step 4: Display the Dominant Colors\n",
    "Visualize the dominant colors as a color palette."
   ]
  },
  {
   "cell_type": "code",
   "execution_count": null,
   "metadata": {},
   "outputs": [],
   "source": [
    "def display_colors(colors):\n",
    "    \"\"\"Display a color palette from the given colors.\"\"\"\n",
    "    palette = np.zeros((50, 300, 3), dtype='uint8')\n",
    "    step = 300 // len(colors)\n",
    "    for i, color in enumerate(colors):\n",
    "        palette[:, i * step:(i + 1) * step] = color\n",
    "    return palette\n",
    "\n",
    "# Create and display the color palette\n",
    "palette = display_colors(dominant_colors)\n",
    "plt.imshow(palette)\n",
    "plt.axis('off')\n",
    "plt.show()"
   ]
  },
  {
   "cell_type": "markdown",
   "metadata": {},
   "source": [
    "## Step 5: Save the Results\n",
    "Save the color palette as an image file if needed."
   ]
  },
  {
   "cell_type": "code",
   "execution_count": null,
   "metadata": {},
   "outputs": [],
   "source": [
    "# Save the palette as an image\n",
    "cv2.imwrite('color_palette.jpg', cv2.cvtColor(palette, cv2.COLOR_RGB2BGR))"
   ]
  },
  {
   "cell_type": "markdown",
   "metadata": {},
   "source": [
    "## Conclusion\n",
    "This project demonstrated how to detect and display dominant colors in an image using OpenCV and scikit-learn."
   ]
  }
 ],
 "metadata": {
  "kernelspec": {
   "display_name": "Python 3",
   "language": "python",
   "name": "python3"
  },
  "language_info": {
   "codemirror_mode": {
    "name": "ipython",
    "version": 3
   },
   "file_extension": ".py",
   "mimetype": "text/x-python",
   "name": "python",
   "nbconvert_exporter": "python",
   "pygments_lexer": "ipython3",
   "version": "3.8.10"
  }
 },
 "nbformat": 4,
 "nbformat_minor": 5
}
